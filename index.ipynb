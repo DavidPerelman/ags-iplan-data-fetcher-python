{
 "cells": [
  {
   "cell_type": "code",
   "execution_count": null,
   "metadata": {},
   "outputs": [],
   "source": [
    "import geopandas as gpd\n",
    "import requests\n",
    "import json\n",
    "from pandas import json_normalize\n",
    "from shapely.geometry import Polygon\n",
    "from geojson import Feature, FeatureCollection"
   ]
  },
  {
   "cell_type": "code",
   "execution_count": null,
   "metadata": {},
   "outputs": [],
   "source": [
    "def up_load_shp(path):\n",
    "    gpd_layer=gpd.read_file(path)\n",
    "    return gpd_layer"
   ]
  },
  {
   "cell_type": "code",
   "execution_count": null,
   "metadata": {},
   "outputs": [],
   "source": [
    "shapefile_path=r'C:\\Users\\dpere\\Documents\\Bandicut\\geopandas\\polygonFromGidon\\polygon.shp'\n",
    "polygonFromGidon=up_load_shp(shapefile_path)"
   ]
  },
  {
   "cell_type": "code",
   "execution_count": null,
   "metadata": {},
   "outputs": [],
   "source": [
    "minx = polygonFromGidon.bounds.minx[0]\n",
    "miny = polygonFromGidon.bounds.miny[0]\n",
    "maxx = polygonFromGidon.bounds.maxx[0]\n",
    "maxy = polygonFromGidon.bounds.maxy[0]"
   ]
  },
  {
   "cell_type": "code",
   "execution_count": null,
   "metadata": {},
   "outputs": [],
   "source": [
    "url = r'https://ags.iplan.gov.il/arcgisiplan/rest/services/PlanningPublic/Xplan/MapServer/1/query?f=json&where=pl_area_dunam%20<%3D15&returnGeometry=true&geometry=%7B%22xmin%22%3A{}%2C%22ymin%22%3A{}%2C%22xmax%22%3A{}%2C%22ymax%22%3A{}%2C%22spatialReference%22%3A%7B%22wkid%22%3A2039%7D%7D&geometryType=esriGeometryEnvelope&inSR=2039&outFields=pl_number%2Cpl_name%2Cpl_url%2Cquantity_delta_120%2Cstation_desc%2Cplan_county_name&orderByFields=pl_number&outSR=2039'.format(minx, miny, maxx, maxy)\n",
    "response = requests.get(url)\n",
    "response_json = response.json()"
   ]
  },
  {
   "cell_type": "code",
   "execution_count": null,
   "metadata": {},
   "outputs": [],
   "source": [
    "data = json.dumps(response_json)\n",
    "dict= json.loads(data)\n",
    "df = json_normalize(dict['features'])"
   ]
  },
  {
   "cell_type": "code",
   "execution_count": null,
   "metadata": {},
   "outputs": [],
   "source": [
    "features = []\n",
    "\n",
    "for feature in dict['features']:\n",
    "    interior_rings = feature['geometry']['rings'][1:]\n",
    "    exterior_ring=feature['geometry']['rings'][0]\n",
    "    polygon = Polygon(exterior_ring, holes=interior_rings)\n",
    "    if polygonFromGidon.contains(polygon.centroid).bool():\n",
    "        feature = Feature(geometry=polygon, properties=feature['attributes'])\n",
    "        features.append(feature)\n",
    "        \n",
    "crs = {\n",
    "    \"type\": \"name\",\n",
    "    \"properties\": {\n",
    "        \"name\": \"EPSG:2039\"\n",
    "    }\n",
    "}\n",
    "\n",
    "feature_collection = FeatureCollection(features)\n",
    "\n",
    "gdf = gpd.GeoDataFrame.from_features(feature_collection, crs='EPSG:2039')\n",
    "gdf.to_file('my_polygon/my_polygon.shp', encoding='utf-8')\n",
    "gdf\n"
   ]
  }
 ],
 "metadata": {
  "kernelspec": {
   "display_name": "creat_forecast_ad_hoc_env",
   "language": "python",
   "name": "python3"
  },
  "language_info": {
   "codemirror_mode": {
    "name": "ipython",
    "version": 3
   },
   "file_extension": ".py",
   "mimetype": "text/x-python",
   "name": "python",
   "nbconvert_exporter": "python",
   "pygments_lexer": "ipython3",
   "version": "3.11.5"
  }
 },
 "nbformat": 4,
 "nbformat_minor": 2
}
